{
 "cells": [
  {
   "cell_type": "code",
   "execution_count": 1,
   "id": "28b6b8b9-b95e-432a-9cce-fafbf4616c01",
   "metadata": {},
   "outputs": [
    {
     "data": {
      "text/plain": [
       "<torch._C.Generator at 0x7f76717395d0>"
      ]
     },
     "execution_count": 1,
     "metadata": {},
     "output_type": "execute_result"
    }
   ],
   "source": [
    "import random\n",
    "import pandas as pd\n",
    "import numpy as np\n",
    "import matplotlib.pyplot as plt\n",
    "import sklearn\n",
    "import torch,torchvision\n",
    "from torch.nn import *\n",
    "from tqdm import tqdm\n",
    "import cv2\n",
    "from torch.optim import *\n",
    "# Preproccessing\n",
    "from sklearn.preprocessing import (\n",
    "    StandardScaler,\n",
    "    RobustScaler,\n",
    "    MinMaxScaler,\n",
    "    MaxAbsScaler,\n",
    "    OneHotEncoder,\n",
    "    Normalizer,\n",
    "    Binarizer\n",
    ")\n",
    "# Decomposition\n",
    "from sklearn.decomposition import PCA\n",
    "from sklearn.decomposition import KernelPCA\n",
    "# Feature Selection\n",
    "from sklearn.feature_selection import VarianceThreshold\n",
    "from sklearn.feature_selection import SelectKBest\n",
    "from sklearn.feature_selection import RFECV\n",
    "from sklearn.feature_selection import SelectFromModel\n",
    "# Model Eval\n",
    "from sklearn.compose import make_column_transformer\n",
    "from sklearn.model_selection import GridSearchCV\n",
    "from sklearn.model_selection import cross_val_score,train_test_split\n",
    "from sklearn.metrics import mean_absolute_error,mean_squared_error\n",
    "# Other\n",
    "import pickle\n",
    "import wandb\n",
    "\n",
    "PROJECT_NAME = 'Gooogle-Stock-Price-V6'\n",
    "device = 'cuda:0'\n",
    "np.random.seed(6)\n",
    "random.seed(6)\n",
    "torch.manual_seed(6)"
   ]
  },
  {
   "cell_type": "code",
   "execution_count": 2,
   "id": "f83a90af-1765-4a3a-8db6-0561d1a05947",
   "metadata": {},
   "outputs": [],
   "source": [
    "data = pd.read_csv('./data.csv')"
   ]
  },
  {
   "cell_type": "code",
   "execution_count": 3,
   "id": "209e0457-538f-4634-a3b2-da6505bb9049",
   "metadata": {},
   "outputs": [],
   "source": [
    "data = data['Open'].tolist()"
   ]
  },
  {
   "cell_type": "code",
   "execution_count": 4,
   "id": "b3c91b16-3a6d-4cb4-87ad-995a4232e8e7",
   "metadata": {},
   "outputs": [],
   "source": [
    "data = torch.from_numpy(np.array(data)).view(1,-1).to(device).float()"
   ]
  },
  {
   "cell_type": "code",
   "execution_count": 5,
   "id": "f51501a5-4116-4455-ac00-4c52880f61a8",
   "metadata": {},
   "outputs": [
    {
     "data": {
      "text/plain": [
       "tensor([[325.2500, 331.2700, 329.8300,  ..., 793.7000, 783.3300, 782.7500]],\n",
       "       device='cuda:0')"
      ]
     },
     "execution_count": 5,
     "metadata": {},
     "output_type": "execute_result"
    }
   ],
   "source": [
    "data"
   ]
  },
  {
   "cell_type": "code",
   "execution_count": 6,
   "id": "8ab4f439-3c24-46bd-9536-a75f7a300f77",
   "metadata": {},
   "outputs": [],
   "source": [
    "data_input = data[:,:-1]\n",
    "data_target = data[:,1:]"
   ]
  },
  {
   "cell_type": "code",
   "execution_count": 7,
   "id": "aafc277f-2b97-4d2e-a27d-7d9f4e7d2fd0",
   "metadata": {},
   "outputs": [
    {
     "data": {
      "text/plain": [
       "tensor([[325.2500, 331.2700, 329.8300,  ..., 790.6800, 793.7000, 783.3300]],\n",
       "       device='cuda:0')"
      ]
     },
     "execution_count": 7,
     "metadata": {},
     "output_type": "execute_result"
    }
   ],
   "source": [
    "data_input"
   ]
  },
  {
   "cell_type": "code",
   "execution_count": 8,
   "id": "0e6a593f-ab5b-46e0-8034-e2494e8ddaaa",
   "metadata": {},
   "outputs": [
    {
     "data": {
      "text/plain": [
       "tensor([[331.2700, 329.8300, 328.3400,  ..., 793.7000, 783.3300, 782.7500]],\n",
       "       device='cuda:0')"
      ]
     },
     "execution_count": 8,
     "metadata": {},
     "output_type": "execute_result"
    }
   ],
   "source": [
    "data_target"
   ]
  },
  {
   "cell_type": "code",
   "execution_count": 9,
   "id": "dfd60b19-e3b4-4ebf-9a81-b2718e6d6a2a",
   "metadata": {},
   "outputs": [],
   "source": [
    "class Model(Module):\n",
    "    def __init__(self):\n",
    "        super().__init__()\n",
    "        self.hidden = 512\n",
    "        self.lstm1 = LSTMCell(1,self.hidden)\n",
    "        self.lstm2 = LSTMCell(self.hidden,self.hidden)\n",
    "        self.linear = Linear(self.hidden,1)\n",
    "    def forward(self,X,future=0):\n",
    "        preds = []\n",
    "        batch_size = []\n",
    "        h_t1,c_t1 = torch.zeros(batch_size,self.hidden).to(device),torch.zeros(batch_size,self.hidden).to(device)\n",
    "        h_t2,c_t2 = torch.zeros(batch_size,self.hidden).to(device),torch.zeros(batch_size,self.hidden).to(device)\n",
    "        for X_batch in X.split(1):\n",
    "            X_batch = X_batch.to(device)\n",
    "            h_t1,c_t1 = self.lstm1(X_batch,(h_t1,c_t1))\n",
    "            h_t2,c_t2 = self.lstm2(h_t1,(h_t2,c_t2))\n",
    "            pred = self.linear(h_t2)\n",
    "            preds.append(pred)\n",
    "        for _ in range(future):\n",
    "            X_batch = X_batch.to(device)\n",
    "            h_t1,c_t1 = self.lstm1(X_batch,(h_t1,c_t1))\n",
    "            h_t2,c_t2 = self.lstm2(h_t1,(h_t2,c_t2))\n",
    "            pred = self.linear(h_t2)\n",
    "            preds.append(pred)\n",
    "        preds = torch.cat(preds,dim=1)\n",
    "        return preds"
   ]
  },
  {
   "cell_type": "code",
   "execution_count": 10,
   "id": "5efc3295-d598-42b4-b1e2-90922cf03cbe",
   "metadata": {},
   "outputs": [],
   "source": [
    "model = Model().to(device)\n",
    "criterion = MSELoss()\n",
    "optimizer = LBFGS(model.parameters(),lr=0.8)\n",
    "epochs = 100"
   ]
  },
  {
   "cell_type": "code",
   "execution_count": 11,
   "id": "a9d421f9-b63e-4709-9af5-77f1142eccdf",
   "metadata": {},
   "outputs": [
    {
     "name": "stderr",
     "output_type": "stream",
     "text": [
      "500 response executing GraphQL.\n",
      "{\"error\":\"Error 1040: Too many connections\"}\n",
      "\n",
      "500 response executing GraphQL.\n",
      "{\"error\":\"Error 1040: Too many connections\"}\n",
      "\n",
      "\u001b[34m\u001b[1mwandb\u001b[0m: W&B API key is configured (use `wandb login --relogin` to force relogin)\n",
      "\u001b[34m\u001b[1mwandb\u001b[0m: Network error (HTTPError), entering retry loop.\n",
      "\u001b[34m\u001b[1mwandb\u001b[0m: wandb version 0.12.6 is available!  To upgrade, please run:\n",
      "\u001b[34m\u001b[1mwandb\u001b[0m:  $ pip install wandb --upgrade\n"
     ]
    },
    {
     "name": "stdout",
     "output_type": "stream",
     "text": [
      "Problem at: <ipython-input-11-3689ad999560> 1 <module>\n"
     ]
    },
    {
     "name": "stderr",
     "output_type": "stream",
     "text": [
      "\n",
      "KeyboardInterrupt\n",
      "\n"
     ]
    }
   ],
   "source": [
    "wandb.init(project=PROJECT_NAME,name='baseline')\n",
    "for _ in tqdm(range(epochs)):\n",
    "    def closure():\n",
    "        optimizer.zero_grad()\n",
    "        preds = model(data_input)\n",
    "        loss = criterion(preds,data_target)\n",
    "        loss.backward()\n",
    "        wandb.log({'Loss':loss.item()})\n",
    "        return loss\n",
    "    optimizer.step(closure)\n",
    "    with torch.no_grad():\n",
    "        n = data_input.shape[1]\n",
    "        future = 100\n",
    "        preds = model(data_input,future)\n",
    "        loss = criterion(preds[:,:-future],data_target)\n",
    "        wandb.log({'Val Loss':loss.item()})\n",
    "        preds = preds[0].view(-1).cpu().detach().numpy()\n",
    "        plt.fiugre(figsize=(12,6))\n",
    "        plt.plot(np.arange(n),data_input.view(-1).cpu().detach().numpy())\n",
    "        plt.plot(np.arange(n,n+future),preds[n:])\n",
    "        plt.savefig('./img.png')\n",
    "        plt.close()\n",
    "        wandb.log({'Img':wandb.Image(cv.imread('./img.png'))})\n",
    "wandb.finish()"
   ]
  },
  {
   "cell_type": "code",
   "execution_count": 13,
   "id": "a62845d1-cc3a-4f6c-adbc-4991ff838ff9",
   "metadata": {},
   "outputs": [],
   "source": [
    "\n",
    "torch.save(data,'./data.pt')\n",
    "torch.save(data,'./data.pth')\n",
    "torch.save(data_input,'data_input.pt')\n",
    "torch.save(data_input,'data_input.pth')\n",
    "torch.save(data_target,'data_target.pt')\n",
    "torch.save(data_target,'data_target.pth')\n",
    "torch.save(model,'custom-model.pt')\n",
    "torch.save(model,'custom-model.pth')\n",
    "torch.save(model.state_dict(),'custom-model-sd.pt')\n",
    "torch.save(model.state_dict(),'custom-model-sd.pth')\n",
    "torch.save(model,'model.pt')\n",
    "torch.save(model,'model.pth')\n",
    "torch.save(model.state_dict(),'model-sd.pt')\n",
    "torch.save(model.state_dict(),'model-sd.pth')\n",
    "torch.save(model,'custom-model.pt')\n",
    "torch.save(model,'custom-model.pth')\n",
    "torch.save(model.state_dict(),'custom-model-sd.pt')\n",
    "torch.save(model.state_dict(),'custom-model-sd.pth')\n",
    "torch.save(model,'model.pt')\n",
    "torch.save(model,'model.pth')\n",
    "torch.save(model.state_dict(),'model-sd.pt')\n",
    "torch.save(model.state_dict(),'model-sd.pth')"
   ]
  },
  {
   "cell_type": "code",
   "execution_count": null,
   "id": "0ba8f4eb-0ebb-4bcf-a578-d36a496571b4",
   "metadata": {},
   "outputs": [],
   "source": []
  }
 ],
 "metadata": {
  "kernelspec": {
   "display_name": "Python 3.8.8 64-bit ('base': conda)",
   "language": "python",
   "name": "python388jvsc74a57bd07338908a6901250255932625ba4b5c32a9d91564d69b39dc5095100e5c96b0b4"
  },
  "language_info": {
   "codemirror_mode": {
    "name": "ipython",
    "version": 3
   },
   "file_extension": ".py",
   "mimetype": "text/x-python",
   "name": "python",
   "nbconvert_exporter": "python",
   "pygments_lexer": "ipython3",
   "version": "3.8.8"
  }
 },
 "nbformat": 4,
 "nbformat_minor": 5
}
